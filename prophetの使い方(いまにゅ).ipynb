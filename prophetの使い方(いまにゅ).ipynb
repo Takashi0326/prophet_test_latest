{
 "cells": [
  {
   "cell_type": "code",
   "execution_count": 1,
   "metadata": {},
   "outputs": [
    {
     "name": "stderr",
     "output_type": "stream",
     "text": [
      "In C:\\Users\\takas\\Anaconda3\\lib\\site-packages\\matplotlib\\mpl-data\\stylelib\\_classic_test.mplstyle: \n",
      "The text.latex.preview rcparam was deprecated in Matplotlib 3.3 and will be removed two minor releases later.\n",
      "In C:\\Users\\takas\\Anaconda3\\lib\\site-packages\\matplotlib\\mpl-data\\stylelib\\_classic_test.mplstyle: \n",
      "The mathtext.fallback_to_cm rcparam was deprecated in Matplotlib 3.3 and will be removed two minor releases later.\n",
      "In C:\\Users\\takas\\Anaconda3\\lib\\site-packages\\matplotlib\\mpl-data\\stylelib\\_classic_test.mplstyle: Support for setting the 'mathtext.fallback_to_cm' rcParam is deprecated since 3.3 and will be removed two minor releases later; use 'mathtext.fallback : 'cm' instead.\n",
      "In C:\\Users\\takas\\Anaconda3\\lib\\site-packages\\matplotlib\\mpl-data\\stylelib\\_classic_test.mplstyle: \n",
      "The validate_bool_maybe_none function was deprecated in Matplotlib 3.3 and will be removed two minor releases later.\n",
      "In C:\\Users\\takas\\Anaconda3\\lib\\site-packages\\matplotlib\\mpl-data\\stylelib\\_classic_test.mplstyle: \n",
      "The savefig.jpeg_quality rcparam was deprecated in Matplotlib 3.3 and will be removed two minor releases later.\n",
      "In C:\\Users\\takas\\Anaconda3\\lib\\site-packages\\matplotlib\\mpl-data\\stylelib\\_classic_test.mplstyle: \n",
      "The keymap.all_axes rcparam was deprecated in Matplotlib 3.3 and will be removed two minor releases later.\n",
      "In C:\\Users\\takas\\Anaconda3\\lib\\site-packages\\matplotlib\\mpl-data\\stylelib\\_classic_test.mplstyle: \n",
      "The animation.avconv_path rcparam was deprecated in Matplotlib 3.3 and will be removed two minor releases later.\n",
      "In C:\\Users\\takas\\Anaconda3\\lib\\site-packages\\matplotlib\\mpl-data\\stylelib\\_classic_test.mplstyle: \n",
      "The animation.avconv_args rcparam was deprecated in Matplotlib 3.3 and will be removed two minor releases later.\n",
      "Importing plotly failed. Interactive plots will not work.\n"
     ]
    }
   ],
   "source": [
    "import pandas as pd\n",
    "from fbprophet import Prophet"
   ]
  },
  {
   "cell_type": "code",
   "execution_count": 2,
   "metadata": {},
   "outputs": [],
   "source": [
    "_df = pd.read_csv(\"https://www.tepco.co.jp/forecast/html/images/juyo-2017.csv\", encoding='shift-jis', skiprows=1)"
   ]
  },
  {
   "cell_type": "code",
   "execution_count": 3,
   "metadata": {},
   "outputs": [
    {
     "data": {
      "text/html": [
       "<div>\n",
       "<style scoped>\n",
       "    .dataframe tbody tr th:only-of-type {\n",
       "        vertical-align: middle;\n",
       "    }\n",
       "\n",
       "    .dataframe tbody tr th {\n",
       "        vertical-align: top;\n",
       "    }\n",
       "\n",
       "    .dataframe thead th {\n",
       "        text-align: right;\n",
       "    }\n",
       "</style>\n",
       "<table border=\"1\" class=\"dataframe\">\n",
       "  <thead>\n",
       "    <tr style=\"text-align: right;\">\n",
       "      <th></th>\n",
       "      <th>DATE</th>\n",
       "      <th>TIME</th>\n",
       "      <th>実績(万kW)</th>\n",
       "    </tr>\n",
       "  </thead>\n",
       "  <tbody>\n",
       "    <tr>\n",
       "      <td>0</td>\n",
       "      <td>2017/1/1</td>\n",
       "      <td>0:00</td>\n",
       "      <td>2783</td>\n",
       "    </tr>\n",
       "    <tr>\n",
       "      <td>1</td>\n",
       "      <td>2017/1/1</td>\n",
       "      <td>1:00</td>\n",
       "      <td>2634</td>\n",
       "    </tr>\n",
       "    <tr>\n",
       "      <td>2</td>\n",
       "      <td>2017/1/1</td>\n",
       "      <td>2:00</td>\n",
       "      <td>2520</td>\n",
       "    </tr>\n",
       "    <tr>\n",
       "      <td>3</td>\n",
       "      <td>2017/1/1</td>\n",
       "      <td>3:00</td>\n",
       "      <td>2438</td>\n",
       "    </tr>\n",
       "    <tr>\n",
       "      <td>4</td>\n",
       "      <td>2017/1/1</td>\n",
       "      <td>4:00</td>\n",
       "      <td>2389</td>\n",
       "    </tr>\n",
       "  </tbody>\n",
       "</table>\n",
       "</div>"
      ],
      "text/plain": [
       "       DATE  TIME  実績(万kW)\n",
       "0  2017/1/1  0:00     2783\n",
       "1  2017/1/1  1:00     2634\n",
       "2  2017/1/1  2:00     2520\n",
       "3  2017/1/1  3:00     2438\n",
       "4  2017/1/1  4:00     2389"
      ]
     },
     "execution_count": 3,
     "metadata": {},
     "output_type": "execute_result"
    }
   ],
   "source": [
    "_df.head()"
   ]
  },
  {
   "cell_type": "code",
   "execution_count": 4,
   "metadata": {},
   "outputs": [
    {
     "data": {
      "text/plain": [
       "(8760, 3)"
      ]
     },
     "execution_count": 4,
     "metadata": {},
     "output_type": "execute_result"
    }
   ],
   "source": [
    "_df.shape"
   ]
  },
  {
   "cell_type": "code",
   "execution_count": 5,
   "metadata": {},
   "outputs": [],
   "source": [
    "years = [2017, 2018, 2019]\n",
    "\n",
    "#year = years[1]\n",
    "df = pd.DataFrame()\n",
    "for year in years:\n",
    "    _df = pd.read_csv(f\"https://www.tepco.co.jp/forecast/html/images/juyo-{year}.csv\", encoding='shift-jis', skiprows=1)\n",
    "    df = pd.concat([df, _df], axis=0)"
   ]
  },
  {
   "cell_type": "code",
   "execution_count": 6,
   "metadata": {},
   "outputs": [
    {
     "data": {
      "text/html": [
       "<div>\n",
       "<style scoped>\n",
       "    .dataframe tbody tr th:only-of-type {\n",
       "        vertical-align: middle;\n",
       "    }\n",
       "\n",
       "    .dataframe tbody tr th {\n",
       "        vertical-align: top;\n",
       "    }\n",
       "\n",
       "    .dataframe thead th {\n",
       "        text-align: right;\n",
       "    }\n",
       "</style>\n",
       "<table border=\"1\" class=\"dataframe\">\n",
       "  <thead>\n",
       "    <tr style=\"text-align: right;\">\n",
       "      <th></th>\n",
       "      <th>DATE</th>\n",
       "      <th>TIME</th>\n",
       "      <th>実績(万kW)</th>\n",
       "    </tr>\n",
       "  </thead>\n",
       "  <tbody>\n",
       "    <tr>\n",
       "      <td>0</td>\n",
       "      <td>2017/1/1</td>\n",
       "      <td>0:00</td>\n",
       "      <td>2783</td>\n",
       "    </tr>\n",
       "    <tr>\n",
       "      <td>1</td>\n",
       "      <td>2017/1/1</td>\n",
       "      <td>1:00</td>\n",
       "      <td>2634</td>\n",
       "    </tr>\n",
       "    <tr>\n",
       "      <td>2</td>\n",
       "      <td>2017/1/1</td>\n",
       "      <td>2:00</td>\n",
       "      <td>2520</td>\n",
       "    </tr>\n",
       "    <tr>\n",
       "      <td>3</td>\n",
       "      <td>2017/1/1</td>\n",
       "      <td>3:00</td>\n",
       "      <td>2438</td>\n",
       "    </tr>\n",
       "    <tr>\n",
       "      <td>4</td>\n",
       "      <td>2017/1/1</td>\n",
       "      <td>4:00</td>\n",
       "      <td>2389</td>\n",
       "    </tr>\n",
       "  </tbody>\n",
       "</table>\n",
       "</div>"
      ],
      "text/plain": [
       "       DATE  TIME  実績(万kW)\n",
       "0  2017/1/1  0:00     2783\n",
       "1  2017/1/1  1:00     2634\n",
       "2  2017/1/1  2:00     2520\n",
       "3  2017/1/1  3:00     2438\n",
       "4  2017/1/1  4:00     2389"
      ]
     },
     "execution_count": 6,
     "metadata": {},
     "output_type": "execute_result"
    }
   ],
   "source": [
    "df.head()"
   ]
  },
  {
   "cell_type": "code",
   "execution_count": 7,
   "metadata": {},
   "outputs": [
    {
     "data": {
      "text/html": [
       "<div>\n",
       "<style scoped>\n",
       "    .dataframe tbody tr th:only-of-type {\n",
       "        vertical-align: middle;\n",
       "    }\n",
       "\n",
       "    .dataframe tbody tr th {\n",
       "        vertical-align: top;\n",
       "    }\n",
       "\n",
       "    .dataframe thead th {\n",
       "        text-align: right;\n",
       "    }\n",
       "</style>\n",
       "<table border=\"1\" class=\"dataframe\">\n",
       "  <thead>\n",
       "    <tr style=\"text-align: right;\">\n",
       "      <th></th>\n",
       "      <th>DATE</th>\n",
       "      <th>TIME</th>\n",
       "      <th>実績(万kW)</th>\n",
       "    </tr>\n",
       "  </thead>\n",
       "  <tbody>\n",
       "    <tr>\n",
       "      <td>8755</td>\n",
       "      <td>2019/12/31</td>\n",
       "      <td>19:00</td>\n",
       "      <td>3302</td>\n",
       "    </tr>\n",
       "    <tr>\n",
       "      <td>8756</td>\n",
       "      <td>2019/12/31</td>\n",
       "      <td>20:00</td>\n",
       "      <td>3263</td>\n",
       "    </tr>\n",
       "    <tr>\n",
       "      <td>8757</td>\n",
       "      <td>2019/12/31</td>\n",
       "      <td>21:00</td>\n",
       "      <td>3182</td>\n",
       "    </tr>\n",
       "    <tr>\n",
       "      <td>8758</td>\n",
       "      <td>2019/12/31</td>\n",
       "      <td>22:00</td>\n",
       "      <td>3077</td>\n",
       "    </tr>\n",
       "    <tr>\n",
       "      <td>8759</td>\n",
       "      <td>2019/12/31</td>\n",
       "      <td>23:00</td>\n",
       "      <td>3029</td>\n",
       "    </tr>\n",
       "  </tbody>\n",
       "</table>\n",
       "</div>"
      ],
      "text/plain": [
       "            DATE   TIME  実績(万kW)\n",
       "8755  2019/12/31  19:00     3302\n",
       "8756  2019/12/31  20:00     3263\n",
       "8757  2019/12/31  21:00     3182\n",
       "8758  2019/12/31  22:00     3077\n",
       "8759  2019/12/31  23:00     3029"
      ]
     },
     "execution_count": 7,
     "metadata": {},
     "output_type": "execute_result"
    }
   ],
   "source": [
    "df.tail()"
   ]
  },
  {
   "cell_type": "code",
   "execution_count": 8,
   "metadata": {},
   "outputs": [
    {
     "data": {
      "text/plain": [
       "(26280, 3)"
      ]
     },
     "execution_count": 8,
     "metadata": {},
     "output_type": "execute_result"
    }
   ],
   "source": [
    "df.shape"
   ]
  },
  {
   "cell_type": "code",
   "execution_count": 9,
   "metadata": {},
   "outputs": [],
   "source": [
    "df = df.reset_index(drop=True)"
   ]
  },
  {
   "cell_type": "code",
   "execution_count": 10,
   "metadata": {},
   "outputs": [
    {
     "data": {
      "text/plain": [
       "'2017/1/1'"
      ]
     },
     "execution_count": 10,
     "metadata": {},
     "output_type": "execute_result"
    }
   ],
   "source": [
    "df['DATE'][0]"
   ]
  },
  {
   "cell_type": "code",
   "execution_count": 11,
   "metadata": {},
   "outputs": [
    {
     "data": {
      "text/plain": [
       "'0:00'"
      ]
     },
     "execution_count": 11,
     "metadata": {},
     "output_type": "execute_result"
    }
   ],
   "source": [
    "df['TIME'][0]"
   ]
  },
  {
   "cell_type": "code",
   "execution_count": 12,
   "metadata": {},
   "outputs": [
    {
     "data": {
      "text/plain": [
       "'2017/1/1 0:00'"
      ]
     },
     "execution_count": 12,
     "metadata": {},
     "output_type": "execute_result"
    }
   ],
   "source": [
    "date = df['DATE'][0]\n",
    "time = df['TIME'][0]\n",
    "str_datetime = f'{date} {time}'\n",
    "str_datetime"
   ]
  },
  {
   "cell_type": "code",
   "execution_count": 13,
   "metadata": {},
   "outputs": [],
   "source": [
    "from datetime import datetime as dt"
   ]
  },
  {
   "cell_type": "code",
   "execution_count": 14,
   "metadata": {},
   "outputs": [],
   "source": [
    "datetime = dt.strptime(str_datetime, '%Y/%m/%d %H:%M')"
   ]
  },
  {
   "cell_type": "code",
   "execution_count": 15,
   "metadata": {},
   "outputs": [
    {
     "data": {
      "text/plain": [
       "datetime.datetime(2017, 1, 1, 0, 0)"
      ]
     },
     "execution_count": 15,
     "metadata": {},
     "output_type": "execute_result"
    }
   ],
   "source": [
    "datetime"
   ]
  },
  {
   "cell_type": "code",
   "execution_count": 16,
   "metadata": {},
   "outputs": [],
   "source": [
    "datetimes = []\n",
    "\n",
    "for index, datum in df.iterrows():\n",
    "\n",
    "    date = datum['DATE']\n",
    "    time = datum['TIME']\n",
    "    str_datetime = f'{date} {time}'\n",
    "    datetime = dt.strptime(str_datetime, '%Y/%m/%d %H:%M')\n",
    "    datetimes.append(datetime)"
   ]
  },
  {
   "cell_type": "code",
   "execution_count": 17,
   "metadata": {},
   "outputs": [
    {
     "data": {
      "text/plain": [
       "[datetime.datetime(2017, 1, 1, 0, 0),\n",
       " datetime.datetime(2017, 1, 1, 1, 0),\n",
       " datetime.datetime(2017, 1, 1, 2, 0)]"
      ]
     },
     "execution_count": 17,
     "metadata": {},
     "output_type": "execute_result"
    }
   ],
   "source": [
    "datetimes[:3]"
   ]
  },
  {
   "cell_type": "code",
   "execution_count": 18,
   "metadata": {},
   "outputs": [],
   "source": [
    "df['ds'] = datetimes"
   ]
  },
  {
   "cell_type": "code",
   "execution_count": 19,
   "metadata": {},
   "outputs": [
    {
     "data": {
      "text/html": [
       "<div>\n",
       "<style scoped>\n",
       "    .dataframe tbody tr th:only-of-type {\n",
       "        vertical-align: middle;\n",
       "    }\n",
       "\n",
       "    .dataframe tbody tr th {\n",
       "        vertical-align: top;\n",
       "    }\n",
       "\n",
       "    .dataframe thead th {\n",
       "        text-align: right;\n",
       "    }\n",
       "</style>\n",
       "<table border=\"1\" class=\"dataframe\">\n",
       "  <thead>\n",
       "    <tr style=\"text-align: right;\">\n",
       "      <th></th>\n",
       "      <th>DATE</th>\n",
       "      <th>TIME</th>\n",
       "      <th>実績(万kW)</th>\n",
       "      <th>ds</th>\n",
       "    </tr>\n",
       "  </thead>\n",
       "  <tbody>\n",
       "    <tr>\n",
       "      <td>0</td>\n",
       "      <td>2017/1/1</td>\n",
       "      <td>0:00</td>\n",
       "      <td>2783</td>\n",
       "      <td>2017-01-01 00:00:00</td>\n",
       "    </tr>\n",
       "    <tr>\n",
       "      <td>1</td>\n",
       "      <td>2017/1/1</td>\n",
       "      <td>1:00</td>\n",
       "      <td>2634</td>\n",
       "      <td>2017-01-01 01:00:00</td>\n",
       "    </tr>\n",
       "    <tr>\n",
       "      <td>2</td>\n",
       "      <td>2017/1/1</td>\n",
       "      <td>2:00</td>\n",
       "      <td>2520</td>\n",
       "      <td>2017-01-01 02:00:00</td>\n",
       "    </tr>\n",
       "    <tr>\n",
       "      <td>3</td>\n",
       "      <td>2017/1/1</td>\n",
       "      <td>3:00</td>\n",
       "      <td>2438</td>\n",
       "      <td>2017-01-01 03:00:00</td>\n",
       "    </tr>\n",
       "    <tr>\n",
       "      <td>4</td>\n",
       "      <td>2017/1/1</td>\n",
       "      <td>4:00</td>\n",
       "      <td>2389</td>\n",
       "      <td>2017-01-01 04:00:00</td>\n",
       "    </tr>\n",
       "  </tbody>\n",
       "</table>\n",
       "</div>"
      ],
      "text/plain": [
       "       DATE  TIME  実績(万kW)                  ds\n",
       "0  2017/1/1  0:00     2783 2017-01-01 00:00:00\n",
       "1  2017/1/1  1:00     2634 2017-01-01 01:00:00\n",
       "2  2017/1/1  2:00     2520 2017-01-01 02:00:00\n",
       "3  2017/1/1  3:00     2438 2017-01-01 03:00:00\n",
       "4  2017/1/1  4:00     2389 2017-01-01 04:00:00"
      ]
     },
     "execution_count": 19,
     "metadata": {},
     "output_type": "execute_result"
    }
   ],
   "source": [
    "df.head()"
   ]
  },
  {
   "cell_type": "code",
   "execution_count": 20,
   "metadata": {},
   "outputs": [
    {
     "data": {
      "text/html": [
       "<div>\n",
       "<style scoped>\n",
       "    .dataframe tbody tr th:only-of-type {\n",
       "        vertical-align: middle;\n",
       "    }\n",
       "\n",
       "    .dataframe tbody tr th {\n",
       "        vertical-align: top;\n",
       "    }\n",
       "\n",
       "    .dataframe thead th {\n",
       "        text-align: right;\n",
       "    }\n",
       "</style>\n",
       "<table border=\"1\" class=\"dataframe\">\n",
       "  <thead>\n",
       "    <tr style=\"text-align: right;\">\n",
       "      <th></th>\n",
       "      <th>DATE</th>\n",
       "      <th>TIME</th>\n",
       "      <th>y</th>\n",
       "      <th>ds</th>\n",
       "    </tr>\n",
       "  </thead>\n",
       "  <tbody>\n",
       "    <tr>\n",
       "      <td>0</td>\n",
       "      <td>2017/1/1</td>\n",
       "      <td>0:00</td>\n",
       "      <td>2783</td>\n",
       "      <td>2017-01-01 00:00:00</td>\n",
       "    </tr>\n",
       "    <tr>\n",
       "      <td>1</td>\n",
       "      <td>2017/1/1</td>\n",
       "      <td>1:00</td>\n",
       "      <td>2634</td>\n",
       "      <td>2017-01-01 01:00:00</td>\n",
       "    </tr>\n",
       "    <tr>\n",
       "      <td>2</td>\n",
       "      <td>2017/1/1</td>\n",
       "      <td>2:00</td>\n",
       "      <td>2520</td>\n",
       "      <td>2017-01-01 02:00:00</td>\n",
       "    </tr>\n",
       "    <tr>\n",
       "      <td>3</td>\n",
       "      <td>2017/1/1</td>\n",
       "      <td>3:00</td>\n",
       "      <td>2438</td>\n",
       "      <td>2017-01-01 03:00:00</td>\n",
       "    </tr>\n",
       "    <tr>\n",
       "      <td>4</td>\n",
       "      <td>2017/1/1</td>\n",
       "      <td>4:00</td>\n",
       "      <td>2389</td>\n",
       "      <td>2017-01-01 04:00:00</td>\n",
       "    </tr>\n",
       "    <tr>\n",
       "      <td>...</td>\n",
       "      <td>...</td>\n",
       "      <td>...</td>\n",
       "      <td>...</td>\n",
       "      <td>...</td>\n",
       "    </tr>\n",
       "    <tr>\n",
       "      <td>26275</td>\n",
       "      <td>2019/12/31</td>\n",
       "      <td>19:00</td>\n",
       "      <td>3302</td>\n",
       "      <td>2019-12-31 19:00:00</td>\n",
       "    </tr>\n",
       "    <tr>\n",
       "      <td>26276</td>\n",
       "      <td>2019/12/31</td>\n",
       "      <td>20:00</td>\n",
       "      <td>3263</td>\n",
       "      <td>2019-12-31 20:00:00</td>\n",
       "    </tr>\n",
       "    <tr>\n",
       "      <td>26277</td>\n",
       "      <td>2019/12/31</td>\n",
       "      <td>21:00</td>\n",
       "      <td>3182</td>\n",
       "      <td>2019-12-31 21:00:00</td>\n",
       "    </tr>\n",
       "    <tr>\n",
       "      <td>26278</td>\n",
       "      <td>2019/12/31</td>\n",
       "      <td>22:00</td>\n",
       "      <td>3077</td>\n",
       "      <td>2019-12-31 22:00:00</td>\n",
       "    </tr>\n",
       "    <tr>\n",
       "      <td>26279</td>\n",
       "      <td>2019/12/31</td>\n",
       "      <td>23:00</td>\n",
       "      <td>3029</td>\n",
       "      <td>2019-12-31 23:00:00</td>\n",
       "    </tr>\n",
       "  </tbody>\n",
       "</table>\n",
       "<p>26280 rows × 4 columns</p>\n",
       "</div>"
      ],
      "text/plain": [
       "             DATE   TIME     y                  ds\n",
       "0        2017/1/1   0:00  2783 2017-01-01 00:00:00\n",
       "1        2017/1/1   1:00  2634 2017-01-01 01:00:00\n",
       "2        2017/1/1   2:00  2520 2017-01-01 02:00:00\n",
       "3        2017/1/1   3:00  2438 2017-01-01 03:00:00\n",
       "4        2017/1/1   4:00  2389 2017-01-01 04:00:00\n",
       "...           ...    ...   ...                 ...\n",
       "26275  2019/12/31  19:00  3302 2019-12-31 19:00:00\n",
       "26276  2019/12/31  20:00  3263 2019-12-31 20:00:00\n",
       "26277  2019/12/31  21:00  3182 2019-12-31 21:00:00\n",
       "26278  2019/12/31  22:00  3077 2019-12-31 22:00:00\n",
       "26279  2019/12/31  23:00  3029 2019-12-31 23:00:00\n",
       "\n",
       "[26280 rows x 4 columns]"
      ]
     },
     "execution_count": 20,
     "metadata": {},
     "output_type": "execute_result"
    }
   ],
   "source": [
    "df = df.rename(columns={'実績(万kW)': 'y'})\n",
    "df"
   ]
  },
  {
   "cell_type": "code",
   "execution_count": 21,
   "metadata": {},
   "outputs": [],
   "source": [
    "model = Prophet()"
   ]
  },
  {
   "cell_type": "code",
   "execution_count": 22,
   "metadata": {},
   "outputs": [
    {
     "name": "stderr",
     "output_type": "stream",
     "text": [
      "INFO:numexpr.utils:Note: NumExpr detected 12 cores but \"NUMEXPR_MAX_THREADS\" not set, so enforcing safe limit of 8.\n",
      "INFO:numexpr.utils:NumExpr defaulting to 8 threads.\n",
      "C:\\Users\\takas\\Anaconda3\\lib\\site-packages\\pystan\\misc.py:399: FutureWarning: Conversion of the second argument of issubdtype from `float` to `np.floating` is deprecated. In future, it will be treated as `np.float64 == np.dtype(float).type`.\n",
      "  elif np.issubdtype(np.asarray(v).dtype, float):\n"
     ]
    },
    {
     "data": {
      "text/plain": [
       "<fbprophet.forecaster.Prophet at 0x20e5da99f48>"
      ]
     },
     "execution_count": 22,
     "metadata": {},
     "output_type": "execute_result"
    }
   ],
   "source": [
    "model.fit(df)"
   ]
  },
  {
   "cell_type": "code",
   "execution_count": 40,
   "metadata": {},
   "outputs": [],
   "source": [
    "future = model.make_future_dataframe(24*365, freq='H')"
   ]
  },
  {
   "cell_type": "code",
   "execution_count": 41,
   "metadata": {},
   "outputs": [
    {
     "data": {
      "text/html": [
       "<div>\n",
       "<style scoped>\n",
       "    .dataframe tbody tr th:only-of-type {\n",
       "        vertical-align: middle;\n",
       "    }\n",
       "\n",
       "    .dataframe tbody tr th {\n",
       "        vertical-align: top;\n",
       "    }\n",
       "\n",
       "    .dataframe thead th {\n",
       "        text-align: right;\n",
       "    }\n",
       "</style>\n",
       "<table border=\"1\" class=\"dataframe\">\n",
       "  <thead>\n",
       "    <tr style=\"text-align: right;\">\n",
       "      <th></th>\n",
       "      <th>ds</th>\n",
       "    </tr>\n",
       "  </thead>\n",
       "  <tbody>\n",
       "    <tr>\n",
       "      <td>35035</td>\n",
       "      <td>2020-12-30 19:00:00</td>\n",
       "    </tr>\n",
       "    <tr>\n",
       "      <td>35036</td>\n",
       "      <td>2020-12-30 20:00:00</td>\n",
       "    </tr>\n",
       "    <tr>\n",
       "      <td>35037</td>\n",
       "      <td>2020-12-30 21:00:00</td>\n",
       "    </tr>\n",
       "    <tr>\n",
       "      <td>35038</td>\n",
       "      <td>2020-12-30 22:00:00</td>\n",
       "    </tr>\n",
       "    <tr>\n",
       "      <td>35039</td>\n",
       "      <td>2020-12-30 23:00:00</td>\n",
       "    </tr>\n",
       "  </tbody>\n",
       "</table>\n",
       "</div>"
      ],
      "text/plain": [
       "                       ds\n",
       "35035 2020-12-30 19:00:00\n",
       "35036 2020-12-30 20:00:00\n",
       "35037 2020-12-30 21:00:00\n",
       "35038 2020-12-30 22:00:00\n",
       "35039 2020-12-30 23:00:00"
      ]
     },
     "execution_count": 41,
     "metadata": {},
     "output_type": "execute_result"
    }
   ],
   "source": [
    "future.tail()"
   ]
  },
  {
   "cell_type": "code",
   "execution_count": 42,
   "metadata": {},
   "outputs": [],
   "source": [
    "future = model.make_future_dataframe(24*366, freq='H')"
   ]
  },
  {
   "cell_type": "code",
   "execution_count": 43,
   "metadata": {},
   "outputs": [
    {
     "data": {
      "text/html": [
       "<div>\n",
       "<style scoped>\n",
       "    .dataframe tbody tr th:only-of-type {\n",
       "        vertical-align: middle;\n",
       "    }\n",
       "\n",
       "    .dataframe tbody tr th {\n",
       "        vertical-align: top;\n",
       "    }\n",
       "\n",
       "    .dataframe thead th {\n",
       "        text-align: right;\n",
       "    }\n",
       "</style>\n",
       "<table border=\"1\" class=\"dataframe\">\n",
       "  <thead>\n",
       "    <tr style=\"text-align: right;\">\n",
       "      <th></th>\n",
       "      <th>ds</th>\n",
       "    </tr>\n",
       "  </thead>\n",
       "  <tbody>\n",
       "    <tr>\n",
       "      <td>35059</td>\n",
       "      <td>2020-12-31 19:00:00</td>\n",
       "    </tr>\n",
       "    <tr>\n",
       "      <td>35060</td>\n",
       "      <td>2020-12-31 20:00:00</td>\n",
       "    </tr>\n",
       "    <tr>\n",
       "      <td>35061</td>\n",
       "      <td>2020-12-31 21:00:00</td>\n",
       "    </tr>\n",
       "    <tr>\n",
       "      <td>35062</td>\n",
       "      <td>2020-12-31 22:00:00</td>\n",
       "    </tr>\n",
       "    <tr>\n",
       "      <td>35063</td>\n",
       "      <td>2020-12-31 23:00:00</td>\n",
       "    </tr>\n",
       "  </tbody>\n",
       "</table>\n",
       "</div>"
      ],
      "text/plain": [
       "                       ds\n",
       "35059 2020-12-31 19:00:00\n",
       "35060 2020-12-31 20:00:00\n",
       "35061 2020-12-31 21:00:00\n",
       "35062 2020-12-31 22:00:00\n",
       "35063 2020-12-31 23:00:00"
      ]
     },
     "execution_count": 43,
     "metadata": {},
     "output_type": "execute_result"
    }
   ],
   "source": [
    "future.tail()"
   ]
  },
  {
   "cell_type": "code",
   "execution_count": 44,
   "metadata": {},
   "outputs": [],
   "source": [
    "forecast = model.predict(future)"
   ]
  },
  {
   "cell_type": "code",
   "execution_count": 28,
   "metadata": {},
   "outputs": [],
   "source": [
    "import matplotlib.pyplot as plt"
   ]
  },
  {
   "cell_type": "code",
   "execution_count": 49,
   "metadata": {},
   "outputs": [
    {
     "data": {
      "image/png": "[encoded data removed]",
      "text/plain": [
       "<Figure size 720x432 with 1 Axes>"
      ]
     },
     "metadata": {},
     "output_type": "display_data"
    }
   ],
   "source": [
    "model.plot(forecast)\n",
    "plt.xlim(dt(2018, 1, 1), dt(2018, 1, 10))\n",
    "plt.ylim(2000,5500)\n",
    "plt.show()"
   ]
  },
  {
   "cell_type": "code",
   "execution_count": 50,
   "metadata": {},
   "outputs": [],
   "source": [
    "df_2020 = pd.read_csv(\"https://www.tepco.co.jp/forecast/html/images/juyo-2020.csv\", encoding='shift-jis', skiprows=1)"
   ]
  },
  {
   "cell_type": "code",
   "execution_count": 51,
   "metadata": {},
   "outputs": [
    {
     "data": {
      "text/html": [
       "<div>\n",
       "<style scoped>\n",
       "    .dataframe tbody tr th:only-of-type {\n",
       "        vertical-align: middle;\n",
       "    }\n",
       "\n",
       "    .dataframe tbody tr th {\n",
       "        vertical-align: top;\n",
       "    }\n",
       "\n",
       "    .dataframe thead th {\n",
       "        text-align: right;\n",
       "    }\n",
       "</style>\n",
       "<table border=\"1\" class=\"dataframe\">\n",
       "  <thead>\n",
       "    <tr style=\"text-align: right;\">\n",
       "      <th></th>\n",
       "      <th>DATE</th>\n",
       "      <th>TIME</th>\n",
       "      <th>実績(万kW)</th>\n",
       "    </tr>\n",
       "  </thead>\n",
       "  <tbody>\n",
       "    <tr>\n",
       "      <td>0</td>\n",
       "      <td>2020/1/1</td>\n",
       "      <td>0:00</td>\n",
       "      <td>2857</td>\n",
       "    </tr>\n",
       "    <tr>\n",
       "      <td>1</td>\n",
       "      <td>2020/1/1</td>\n",
       "      <td>1:00</td>\n",
       "      <td>2703</td>\n",
       "    </tr>\n",
       "    <tr>\n",
       "      <td>2</td>\n",
       "      <td>2020/1/1</td>\n",
       "      <td>2:00</td>\n",
       "      <td>2602</td>\n",
       "    </tr>\n",
       "    <tr>\n",
       "      <td>3</td>\n",
       "      <td>2020/1/1</td>\n",
       "      <td>3:00</td>\n",
       "      <td>2520</td>\n",
       "    </tr>\n",
       "    <tr>\n",
       "      <td>4</td>\n",
       "      <td>2020/1/1</td>\n",
       "      <td>4:00</td>\n",
       "      <td>2464</td>\n",
       "    </tr>\n",
       "  </tbody>\n",
       "</table>\n",
       "</div>"
      ],
      "text/plain": [
       "       DATE  TIME  実績(万kW)\n",
       "0  2020/1/1  0:00     2857\n",
       "1  2020/1/1  1:00     2703\n",
       "2  2020/1/1  2:00     2602\n",
       "3  2020/1/1  3:00     2520\n",
       "4  2020/1/1  4:00     2464"
      ]
     },
     "execution_count": 51,
     "metadata": {},
     "output_type": "execute_result"
    }
   ],
   "source": [
    "df_2020.head()"
   ]
  },
  {
   "cell_type": "code",
   "execution_count": 52,
   "metadata": {},
   "outputs": [
    {
     "data": {
      "text/html": [
       "<div>\n",
       "<style scoped>\n",
       "    .dataframe tbody tr th:only-of-type {\n",
       "        vertical-align: middle;\n",
       "    }\n",
       "\n",
       "    .dataframe tbody tr th {\n",
       "        vertical-align: top;\n",
       "    }\n",
       "\n",
       "    .dataframe thead th {\n",
       "        text-align: right;\n",
       "    }\n",
       "</style>\n",
       "<table border=\"1\" class=\"dataframe\">\n",
       "  <thead>\n",
       "    <tr style=\"text-align: right;\">\n",
       "      <th></th>\n",
       "      <th>ds</th>\n",
       "      <th>trend</th>\n",
       "      <th>yhat_lower</th>\n",
       "      <th>yhat_upper</th>\n",
       "      <th>trend_lower</th>\n",
       "      <th>trend_upper</th>\n",
       "      <th>additive_terms</th>\n",
       "      <th>additive_terms_lower</th>\n",
       "      <th>additive_terms_upper</th>\n",
       "      <th>daily</th>\n",
       "      <th>...</th>\n",
       "      <th>weekly</th>\n",
       "      <th>weekly_lower</th>\n",
       "      <th>weekly_upper</th>\n",
       "      <th>yearly</th>\n",
       "      <th>yearly_lower</th>\n",
       "      <th>yearly_upper</th>\n",
       "      <th>multiplicative_terms</th>\n",
       "      <th>multiplicative_terms_lower</th>\n",
       "      <th>multiplicative_terms_upper</th>\n",
       "      <th>yhat</th>\n",
       "    </tr>\n",
       "  </thead>\n",
       "  <tbody>\n",
       "    <tr>\n",
       "      <td>35059</td>\n",
       "      <td>2020-12-31 19:00:00</td>\n",
       "      <td>2734.531447</td>\n",
       "      <td>777.637118</td>\n",
       "      <td>5891.266084</td>\n",
       "      <td>169.351949</td>\n",
       "      <td>5150.013625</td>\n",
       "      <td>673.651626</td>\n",
       "      <td>673.651626</td>\n",
       "      <td>673.651626</td>\n",
       "      <td>396.229024</td>\n",
       "      <td>...</td>\n",
       "      <td>120.975497</td>\n",
       "      <td>120.975497</td>\n",
       "      <td>120.975497</td>\n",
       "      <td>156.447105</td>\n",
       "      <td>156.447105</td>\n",
       "      <td>156.447105</td>\n",
       "      <td>0.0</td>\n",
       "      <td>0.0</td>\n",
       "      <td>0.0</td>\n",
       "      <td>3408.183074</td>\n",
       "    </tr>\n",
       "    <tr>\n",
       "      <td>35060</td>\n",
       "      <td>2020-12-31 20:00:00</td>\n",
       "      <td>2734.486551</td>\n",
       "      <td>711.394392</td>\n",
       "      <td>5889.297417</td>\n",
       "      <td>169.062480</td>\n",
       "      <td>5150.353560</td>\n",
       "      <td>569.936030</td>\n",
       "      <td>569.936030</td>\n",
       "      <td>569.936030</td>\n",
       "      <td>292.171591</td>\n",
       "      <td>...</td>\n",
       "      <td>121.384536</td>\n",
       "      <td>121.384536</td>\n",
       "      <td>121.384536</td>\n",
       "      <td>156.379904</td>\n",
       "      <td>156.379904</td>\n",
       "      <td>156.379904</td>\n",
       "      <td>0.0</td>\n",
       "      <td>0.0</td>\n",
       "      <td>0.0</td>\n",
       "      <td>3304.422581</td>\n",
       "    </tr>\n",
       "    <tr>\n",
       "      <td>35061</td>\n",
       "      <td>2020-12-31 21:00:00</td>\n",
       "      <td>2734.441654</td>\n",
       "      <td>551.336426</td>\n",
       "      <td>5616.196103</td>\n",
       "      <td>168.773012</td>\n",
       "      <td>5150.693495</td>\n",
       "      <td>404.371381</td>\n",
       "      <td>404.371381</td>\n",
       "      <td>404.371381</td>\n",
       "      <td>126.184316</td>\n",
       "      <td>...</td>\n",
       "      <td>121.868095</td>\n",
       "      <td>121.868095</td>\n",
       "      <td>121.868095</td>\n",
       "      <td>156.318969</td>\n",
       "      <td>156.318969</td>\n",
       "      <td>156.318969</td>\n",
       "      <td>0.0</td>\n",
       "      <td>0.0</td>\n",
       "      <td>0.0</td>\n",
       "      <td>3138.813035</td>\n",
       "    </tr>\n",
       "    <tr>\n",
       "      <td>35062</td>\n",
       "      <td>2020-12-31 22:00:00</td>\n",
       "      <td>2734.396757</td>\n",
       "      <td>242.400370</td>\n",
       "      <td>5406.992284</td>\n",
       "      <td>168.483543</td>\n",
       "      <td>5151.033430</td>\n",
       "      <td>193.201470</td>\n",
       "      <td>193.201470</td>\n",
       "      <td>193.201470</td>\n",
       "      <td>-85.473335</td>\n",
       "      <td>...</td>\n",
       "      <td>122.410488</td>\n",
       "      <td>122.410488</td>\n",
       "      <td>122.410488</td>\n",
       "      <td>156.264317</td>\n",
       "      <td>156.264317</td>\n",
       "      <td>156.264317</td>\n",
       "      <td>0.0</td>\n",
       "      <td>0.0</td>\n",
       "      <td>0.0</td>\n",
       "      <td>2927.598227</td>\n",
       "    </tr>\n",
       "    <tr>\n",
       "      <td>35063</td>\n",
       "      <td>2020-12-31 23:00:00</td>\n",
       "      <td>2734.351861</td>\n",
       "      <td>125.100392</td>\n",
       "      <td>5150.180922</td>\n",
       "      <td>168.194075</td>\n",
       "      <td>5151.373364</td>\n",
       "      <td>-24.939985</td>\n",
       "      <td>-24.939985</td>\n",
       "      <td>-24.939985</td>\n",
       "      <td>-304.147588</td>\n",
       "      <td>...</td>\n",
       "      <td>122.991642</td>\n",
       "      <td>122.991642</td>\n",
       "      <td>122.991642</td>\n",
       "      <td>156.215961</td>\n",
       "      <td>156.215961</td>\n",
       "      <td>156.215961</td>\n",
       "      <td>0.0</td>\n",
       "      <td>0.0</td>\n",
       "      <td>0.0</td>\n",
       "      <td>2709.411876</td>\n",
       "    </tr>\n",
       "  </tbody>\n",
       "</table>\n",
       "<p>5 rows × 22 columns</p>\n",
       "</div>"
      ],
      "text/plain": [
       "                       ds        trend  yhat_lower   yhat_upper  trend_lower  \\\n",
       "35059 2020-12-31 19:00:00  2734.531447  777.637118  5891.266084   169.351949   \n",
       "35060 2020-12-31 20:00:00  2734.486551  711.394392  5889.297417   169.062480   \n",
       "35061 2020-12-31 21:00:00  2734.441654  551.336426  5616.196103   168.773012   \n",
       "35062 2020-12-31 22:00:00  2734.396757  242.400370  5406.992284   168.483543   \n",
       "35063 2020-12-31 23:00:00  2734.351861  125.100392  5150.180922   168.194075   \n",
       "\n",
       "       trend_upper  additive_terms  additive_terms_lower  \\\n",
       "35059  5150.013625      673.651626            673.651626   \n",
       "35060  5150.353560      569.936030            569.936030   \n",
       "35061  5150.693495      404.371381            404.371381   \n",
       "35062  5151.033430      193.201470            193.201470   \n",
       "35063  5151.373364      -24.939985            -24.939985   \n",
       "\n",
       "       additive_terms_upper       daily  ...      weekly  weekly_lower  \\\n",
       "35059            673.651626  396.229024  ...  120.975497    120.975497   \n",
       "35060            569.936030  292.171591  ...  121.384536    121.384536   \n",
       "35061            404.371381  126.184316  ...  121.868095    121.868095   \n",
       "35062            193.201470  -85.473335  ...  122.410488    122.410488   \n",
       "35063            -24.939985 -304.147588  ...  122.991642    122.991642   \n",
       "\n",
       "       weekly_upper      yearly  yearly_lower  yearly_upper  \\\n",
       "35059    120.975497  156.447105    156.447105    156.447105   \n",
       "35060    121.384536  156.379904    156.379904    156.379904   \n",
       "35061    121.868095  156.318969    156.318969    156.318969   \n",
       "35062    122.410488  156.264317    156.264317    156.264317   \n",
       "35063    122.991642  156.215961    156.215961    156.215961   \n",
       "\n",
       "       multiplicative_terms  multiplicative_terms_lower  \\\n",
       "35059                   0.0                         0.0   \n",
       "35060                   0.0                         0.0   \n",
       "35061                   0.0                         0.0   \n",
       "35062                   0.0                         0.0   \n",
       "35063                   0.0                         0.0   \n",
       "\n",
       "       multiplicative_terms_upper         yhat  \n",
       "35059                         0.0  3408.183074  \n",
       "35060                         0.0  3304.422581  \n",
       "35061                         0.0  3138.813035  \n",
       "35062                         0.0  2927.598227  \n",
       "35063                         0.0  2709.411876  \n",
       "\n",
       "[5 rows x 22 columns]"
      ]
     },
     "execution_count": 52,
     "metadata": {},
     "output_type": "execute_result"
    }
   ],
   "source": [
    "forecast.tail()"
   ]
  },
  {
   "cell_type": "code",
   "execution_count": 60,
   "metadata": {},
   "outputs": [],
   "source": [
    "forecast_2020 = forecast[forecast['ds'] >= dt(2020, 1, 1)].reset_index(drop=True)"
   ]
  },
  {
   "cell_type": "code",
   "execution_count": 61,
   "metadata": {
    "scrolled": true
   },
   "outputs": [
    {
     "data": {
      "text/html": [
       "<div>\n",
       "<style scoped>\n",
       "    .dataframe tbody tr th:only-of-type {\n",
       "        vertical-align: middle;\n",
       "    }\n",
       "\n",
       "    .dataframe tbody tr th {\n",
       "        vertical-align: top;\n",
       "    }\n",
       "\n",
       "    .dataframe thead th {\n",
       "        text-align: right;\n",
       "    }\n",
       "</style>\n",
       "<table border=\"1\" class=\"dataframe\">\n",
       "  <thead>\n",
       "    <tr style=\"text-align: right;\">\n",
       "      <th></th>\n",
       "      <th>ds</th>\n",
       "      <th>trend</th>\n",
       "      <th>yhat_lower</th>\n",
       "      <th>yhat_upper</th>\n",
       "      <th>trend_lower</th>\n",
       "      <th>trend_upper</th>\n",
       "      <th>additive_terms</th>\n",
       "      <th>additive_terms_lower</th>\n",
       "      <th>additive_terms_upper</th>\n",
       "      <th>daily</th>\n",
       "      <th>...</th>\n",
       "      <th>weekly</th>\n",
       "      <th>weekly_lower</th>\n",
       "      <th>weekly_upper</th>\n",
       "      <th>yearly</th>\n",
       "      <th>yearly_lower</th>\n",
       "      <th>yearly_upper</th>\n",
       "      <th>multiplicative_terms</th>\n",
       "      <th>multiplicative_terms_lower</th>\n",
       "      <th>multiplicative_terms_upper</th>\n",
       "      <th>yhat</th>\n",
       "    </tr>\n",
       "  </thead>\n",
       "  <tbody>\n",
       "    <tr>\n",
       "      <td>0</td>\n",
       "      <td>2020-01-01 00:00:00</td>\n",
       "      <td>3128.679143</td>\n",
       "      <td>2509.202783</td>\n",
       "      <td>3285.029299</td>\n",
       "      <td>3128.679143</td>\n",
       "      <td>3128.679143</td>\n",
       "      <td>-221.795040</td>\n",
       "      <td>-221.795040</td>\n",
       "      <td>-221.795040</td>\n",
       "      <td>-488.418488</td>\n",
       "      <td>...</td>\n",
       "      <td>108.739762</td>\n",
       "      <td>108.739762</td>\n",
       "      <td>108.739762</td>\n",
       "      <td>157.883686</td>\n",
       "      <td>157.883686</td>\n",
       "      <td>157.883686</td>\n",
       "      <td>0.0</td>\n",
       "      <td>0.0</td>\n",
       "      <td>0.0</td>\n",
       "      <td>2906.884104</td>\n",
       "    </tr>\n",
       "    <tr>\n",
       "      <td>1</td>\n",
       "      <td>2020-01-01 01:00:00</td>\n",
       "      <td>3128.634247</td>\n",
       "      <td>2368.991941</td>\n",
       "      <td>3147.376379</td>\n",
       "      <td>3128.634247</td>\n",
       "      <td>3128.634247</td>\n",
       "      <td>-351.489549</td>\n",
       "      <td>-351.489549</td>\n",
       "      <td>-351.489549</td>\n",
       "      <td>-617.311809</td>\n",
       "      <td>...</td>\n",
       "      <td>108.085762</td>\n",
       "      <td>108.085762</td>\n",
       "      <td>108.085762</td>\n",
       "      <td>157.736498</td>\n",
       "      <td>157.736498</td>\n",
       "      <td>157.736498</td>\n",
       "      <td>0.0</td>\n",
       "      <td>0.0</td>\n",
       "      <td>0.0</td>\n",
       "      <td>2777.144698</td>\n",
       "    </tr>\n",
       "    <tr>\n",
       "      <td>2</td>\n",
       "      <td>2020-01-01 02:00:00</td>\n",
       "      <td>3128.589350</td>\n",
       "      <td>2334.175685</td>\n",
       "      <td>3092.366648</td>\n",
       "      <td>3128.589350</td>\n",
       "      <td>3128.589350</td>\n",
       "      <td>-429.112705</td>\n",
       "      <td>-429.112705</td>\n",
       "      <td>-429.112705</td>\n",
       "      <td>-694.378169</td>\n",
       "      <td>...</td>\n",
       "      <td>107.670104</td>\n",
       "      <td>107.670104</td>\n",
       "      <td>107.670104</td>\n",
       "      <td>157.595360</td>\n",
       "      <td>157.595360</td>\n",
       "      <td>157.595360</td>\n",
       "      <td>0.0</td>\n",
       "      <td>0.0</td>\n",
       "      <td>0.0</td>\n",
       "      <td>2699.476645</td>\n",
       "    </tr>\n",
       "    <tr>\n",
       "      <td>3</td>\n",
       "      <td>2020-01-01 03:00:00</td>\n",
       "      <td>3128.544453</td>\n",
       "      <td>2278.110892</td>\n",
       "      <td>3057.500269</td>\n",
       "      <td>3128.544453</td>\n",
       "      <td>3128.544453</td>\n",
       "      <td>-463.016122</td>\n",
       "      <td>-463.016122</td>\n",
       "      <td>-463.016122</td>\n",
       "      <td>-727.962708</td>\n",
       "      <td>...</td>\n",
       "      <td>107.486297</td>\n",
       "      <td>107.486297</td>\n",
       "      <td>107.486297</td>\n",
       "      <td>157.460289</td>\n",
       "      <td>157.460289</td>\n",
       "      <td>157.460289</td>\n",
       "      <td>0.0</td>\n",
       "      <td>0.0</td>\n",
       "      <td>0.0</td>\n",
       "      <td>2665.528331</td>\n",
       "    </tr>\n",
       "    <tr>\n",
       "      <td>4</td>\n",
       "      <td>2020-01-01 04:00:00</td>\n",
       "      <td>3128.499557</td>\n",
       "      <td>2331.070796</td>\n",
       "      <td>3072.280186</td>\n",
       "      <td>3128.499557</td>\n",
       "      <td>3128.499557</td>\n",
       "      <td>-443.289058</td>\n",
       "      <td>-443.289058</td>\n",
       "      <td>-443.289058</td>\n",
       "      <td>-708.144239</td>\n",
       "      <td>...</td>\n",
       "      <td>107.523878</td>\n",
       "      <td>107.523878</td>\n",
       "      <td>107.523878</td>\n",
       "      <td>157.331303</td>\n",
       "      <td>157.331303</td>\n",
       "      <td>157.331303</td>\n",
       "      <td>0.0</td>\n",
       "      <td>0.0</td>\n",
       "      <td>0.0</td>\n",
       "      <td>2685.210499</td>\n",
       "    </tr>\n",
       "  </tbody>\n",
       "</table>\n",
       "<p>5 rows × 22 columns</p>\n",
       "</div>"
      ],
      "text/plain": [
       "                   ds        trend   yhat_lower   yhat_upper  trend_lower  \\\n",
       "0 2020-01-01 00:00:00  3128.679143  2509.202783  3285.029299  3128.679143   \n",
       "1 2020-01-01 01:00:00  3128.634247  2368.991941  3147.376379  3128.634247   \n",
       "2 2020-01-01 02:00:00  3128.589350  2334.175685  3092.366648  3128.589350   \n",
       "3 2020-01-01 03:00:00  3128.544453  2278.110892  3057.500269  3128.544453   \n",
       "4 2020-01-01 04:00:00  3128.499557  2331.070796  3072.280186  3128.499557   \n",
       "\n",
       "   trend_upper  additive_terms  additive_terms_lower  additive_terms_upper  \\\n",
       "0  3128.679143     -221.795040           -221.795040           -221.795040   \n",
       "1  3128.634247     -351.489549           -351.489549           -351.489549   \n",
       "2  3128.589350     -429.112705           -429.112705           -429.112705   \n",
       "3  3128.544453     -463.016122           -463.016122           -463.016122   \n",
       "4  3128.499557     -443.289058           -443.289058           -443.289058   \n",
       "\n",
       "        daily  ...      weekly  weekly_lower  weekly_upper      yearly  \\\n",
       "0 -488.418488  ...  108.739762    108.739762    108.739762  157.883686   \n",
       "1 -617.311809  ...  108.085762    108.085762    108.085762  157.736498   \n",
       "2 -694.378169  ...  107.670104    107.670104    107.670104  157.595360   \n",
       "3 -727.962708  ...  107.486297    107.486297    107.486297  157.460289   \n",
       "4 -708.144239  ...  107.523878    107.523878    107.523878  157.331303   \n",
       "\n",
       "   yearly_lower  yearly_upper  multiplicative_terms  \\\n",
       "0    157.883686    157.883686                   0.0   \n",
       "1    157.736498    157.736498                   0.0   \n",
       "2    157.595360    157.595360                   0.0   \n",
       "3    157.460289    157.460289                   0.0   \n",
       "4    157.331303    157.331303                   0.0   \n",
       "\n",
       "   multiplicative_terms_lower  multiplicative_terms_upper         yhat  \n",
       "0                         0.0                         0.0  2906.884104  \n",
       "1                         0.0                         0.0  2777.144698  \n",
       "2                         0.0                         0.0  2699.476645  \n",
       "3                         0.0                         0.0  2665.528331  \n",
       "4                         0.0                         0.0  2685.210499  \n",
       "\n",
       "[5 rows x 22 columns]"
      ]
     },
     "execution_count": 61,
     "metadata": {},
     "output_type": "execute_result"
    }
   ],
   "source": [
    "forecast_2020.head()"
   ]
  },
  {
   "cell_type": "code",
   "execution_count": 69,
   "metadata": {
    "scrolled": true
   },
   "outputs": [],
   "source": [
    "df_2020 = df_2020.rename(columns={\"実績(万kW)\":\"y\"})"
   ]
  },
  {
   "cell_type": "code",
   "execution_count": 70,
   "metadata": {},
   "outputs": [],
   "source": [
    "#forecast_2020['yhat']"
   ]
  },
  {
   "cell_type": "code",
   "execution_count": 73,
   "metadata": {},
   "outputs": [],
   "source": [
    "#実測値\n",
    "results['t'] = df_2020['y']\n",
    "#予測値\n",
    "results['y'] = forecast_2020['yhat']\n",
    "results['diff'] = results['t'] - results['y']"
   ]
  },
  {
   "cell_type": "code",
   "execution_count": 74,
   "metadata": {},
   "outputs": [
    {
     "data": {
      "text/html": [
       "<div>\n",
       "<style scoped>\n",
       "    .dataframe tbody tr th:only-of-type {\n",
       "        vertical-align: middle;\n",
       "    }\n",
       "\n",
       "    .dataframe tbody tr th {\n",
       "        vertical-align: top;\n",
       "    }\n",
       "\n",
       "    .dataframe thead th {\n",
       "        text-align: right;\n",
       "    }\n",
       "</style>\n",
       "<table border=\"1\" class=\"dataframe\">\n",
       "  <thead>\n",
       "    <tr style=\"text-align: right;\">\n",
       "      <th></th>\n",
       "      <th>t</th>\n",
       "      <th>y</th>\n",
       "      <th>diff</th>\n",
       "    </tr>\n",
       "  </thead>\n",
       "  <tbody>\n",
       "    <tr>\n",
       "      <td>0</td>\n",
       "      <td>2857</td>\n",
       "      <td>2906.884104</td>\n",
       "      <td>-49.884104</td>\n",
       "    </tr>\n",
       "    <tr>\n",
       "      <td>1</td>\n",
       "      <td>2703</td>\n",
       "      <td>2777.144698</td>\n",
       "      <td>-74.144698</td>\n",
       "    </tr>\n",
       "    <tr>\n",
       "      <td>2</td>\n",
       "      <td>2602</td>\n",
       "      <td>2699.476645</td>\n",
       "      <td>-97.476645</td>\n",
       "    </tr>\n",
       "    <tr>\n",
       "      <td>3</td>\n",
       "      <td>2520</td>\n",
       "      <td>2665.528331</td>\n",
       "      <td>-145.528331</td>\n",
       "    </tr>\n",
       "    <tr>\n",
       "      <td>4</td>\n",
       "      <td>2464</td>\n",
       "      <td>2685.210499</td>\n",
       "      <td>-221.210499</td>\n",
       "    </tr>\n",
       "  </tbody>\n",
       "</table>\n",
       "</div>"
      ],
      "text/plain": [
       "      t            y        diff\n",
       "0  2857  2906.884104  -49.884104\n",
       "1  2703  2777.144698  -74.144698\n",
       "2  2602  2699.476645  -97.476645\n",
       "3  2520  2665.528331 -145.528331\n",
       "4  2464  2685.210499 -221.210499"
      ]
     },
     "execution_count": 74,
     "metadata": {},
     "output_type": "execute_result"
    }
   ],
   "source": [
    "results.head()"
   ]
  },
  {
   "cell_type": "code",
   "execution_count": 75,
   "metadata": {},
   "outputs": [],
   "source": [
    "#MAPE mean absolute percent error\n",
    "import numpy as np"
   ]
  },
  {
   "cell_type": "code",
   "execution_count": 78,
   "metadata": {},
   "outputs": [
    {
     "data": {
      "text/plain": [
       "10.459165347753755"
      ]
     },
     "execution_count": 78,
     "metadata": {},
     "output_type": "execute_result"
    }
   ],
   "source": [
    "np.mean(abs((results['y'] - results['t'])/results['t'])*100)\n",
    "#実際の値から〇〇%離れてますよ"
   ]
  },
  {
   "cell_type": "code",
   "execution_count": 80,
   "metadata": {},
   "outputs": [
    {
     "data": {
      "text/html": [
       "<div>\n",
       "<style scoped>\n",
       "    .dataframe tbody tr th:only-of-type {\n",
       "        vertical-align: middle;\n",
       "    }\n",
       "\n",
       "    .dataframe tbody tr th {\n",
       "        vertical-align: top;\n",
       "    }\n",
       "\n",
       "    .dataframe thead th {\n",
       "        text-align: right;\n",
       "    }\n",
       "</style>\n",
       "<table border=\"1\" class=\"dataframe\">\n",
       "  <thead>\n",
       "    <tr style=\"text-align: right;\">\n",
       "      <th></th>\n",
       "      <th>ds</th>\n",
       "      <th>holiday</th>\n",
       "      <th>lower_window</th>\n",
       "      <th>upper_window</th>\n",
       "    </tr>\n",
       "  </thead>\n",
       "  <tbody>\n",
       "    <tr>\n",
       "      <td>0</td>\n",
       "      <td>2017/01/01 0:00:00</td>\n",
       "      <td>holiday</td>\n",
       "      <td>0</td>\n",
       "      <td>1</td>\n",
       "    </tr>\n",
       "    <tr>\n",
       "      <td>1</td>\n",
       "      <td>2017/01/01 1:00:00</td>\n",
       "      <td>holiday</td>\n",
       "      <td>0</td>\n",
       "      <td>1</td>\n",
       "    </tr>\n",
       "    <tr>\n",
       "      <td>2</td>\n",
       "      <td>2017/01/01 10:00:00</td>\n",
       "      <td>holiday</td>\n",
       "      <td>0</td>\n",
       "      <td>1</td>\n",
       "    </tr>\n",
       "    <tr>\n",
       "      <td>3</td>\n",
       "      <td>2017/01/01 11:00:00</td>\n",
       "      <td>holiday</td>\n",
       "      <td>0</td>\n",
       "      <td>1</td>\n",
       "    </tr>\n",
       "    <tr>\n",
       "      <td>4</td>\n",
       "      <td>2017/01/01 12:00:00</td>\n",
       "      <td>holiday</td>\n",
       "      <td>0</td>\n",
       "      <td>1</td>\n",
       "    </tr>\n",
       "  </tbody>\n",
       "</table>\n",
       "</div>"
      ],
      "text/plain": [
       "                    ds  holiday  lower_window  upper_window\n",
       "0   2017/01/01 0:00:00  holiday             0             1\n",
       "1   2017/01/01 1:00:00  holiday             0             1\n",
       "2  2017/01/01 10:00:00  holiday             0             1\n",
       "3  2017/01/01 11:00:00  holiday             0             1\n",
       "4  2017/01/01 12:00:00  holiday             0             1"
      ]
     },
     "execution_count": 80,
     "metadata": {},
     "output_type": "execute_result"
    }
   ],
   "source": [
    "df_holidays = pd.read_csv('holidays+hotdays+hour_2017_2019.csv')\n",
    "df_holidays.head()"
   ]
  },
  {
   "cell_type": "code",
   "execution_count": 81,
   "metadata": {},
   "outputs": [
    {
     "data": {
      "text/plain": [
       "5653"
      ]
     },
     "execution_count": 81,
     "metadata": {},
     "output_type": "execute_result"
    }
   ],
   "source": [
    "df.y.max()"
   ]
  },
  {
   "cell_type": "code",
   "execution_count": 82,
   "metadata": {},
   "outputs": [
    {
     "data": {
      "text/html": [
       "<div>\n",
       "<style scoped>\n",
       "    .dataframe tbody tr th:only-of-type {\n",
       "        vertical-align: middle;\n",
       "    }\n",
       "\n",
       "    .dataframe tbody tr th {\n",
       "        vertical-align: top;\n",
       "    }\n",
       "\n",
       "    .dataframe thead th {\n",
       "        text-align: right;\n",
       "    }\n",
       "</style>\n",
       "<table border=\"1\" class=\"dataframe\">\n",
       "  <thead>\n",
       "    <tr style=\"text-align: right;\">\n",
       "      <th></th>\n",
       "      <th>DATE</th>\n",
       "      <th>TIME</th>\n",
       "      <th>y</th>\n",
       "      <th>ds</th>\n",
       "      <th>cap</th>\n",
       "    </tr>\n",
       "  </thead>\n",
       "  <tbody>\n",
       "    <tr>\n",
       "      <td>0</td>\n",
       "      <td>2017/1/1</td>\n",
       "      <td>0:00</td>\n",
       "      <td>2783</td>\n",
       "      <td>2017-01-01 00:00:00</td>\n",
       "      <td>5700</td>\n",
       "    </tr>\n",
       "    <tr>\n",
       "      <td>1</td>\n",
       "      <td>2017/1/1</td>\n",
       "      <td>1:00</td>\n",
       "      <td>2634</td>\n",
       "      <td>2017-01-01 01:00:00</td>\n",
       "      <td>5700</td>\n",
       "    </tr>\n",
       "    <tr>\n",
       "      <td>2</td>\n",
       "      <td>2017/1/1</td>\n",
       "      <td>2:00</td>\n",
       "      <td>2520</td>\n",
       "      <td>2017-01-01 02:00:00</td>\n",
       "      <td>5700</td>\n",
       "    </tr>\n",
       "    <tr>\n",
       "      <td>3</td>\n",
       "      <td>2017/1/1</td>\n",
       "      <td>3:00</td>\n",
       "      <td>2438</td>\n",
       "      <td>2017-01-01 03:00:00</td>\n",
       "      <td>5700</td>\n",
       "    </tr>\n",
       "    <tr>\n",
       "      <td>4</td>\n",
       "      <td>2017/1/1</td>\n",
       "      <td>4:00</td>\n",
       "      <td>2389</td>\n",
       "      <td>2017-01-01 04:00:00</td>\n",
       "      <td>5700</td>\n",
       "    </tr>\n",
       "  </tbody>\n",
       "</table>\n",
       "</div>"
      ],
      "text/plain": [
       "       DATE  TIME     y                  ds   cap\n",
       "0  2017/1/1  0:00  2783 2017-01-01 00:00:00  5700\n",
       "1  2017/1/1  1:00  2634 2017-01-01 01:00:00  5700\n",
       "2  2017/1/1  2:00  2520 2017-01-01 02:00:00  5700\n",
       "3  2017/1/1  3:00  2438 2017-01-01 03:00:00  5700\n",
       "4  2017/1/1  4:00  2389 2017-01-01 04:00:00  5700"
      ]
     },
     "execution_count": 82,
     "metadata": {},
     "output_type": "execute_result"
    }
   ],
   "source": [
    "df['cap'] = 5700\n",
    "df.head()"
   ]
  },
  {
   "cell_type": "code",
   "execution_count": 83,
   "metadata": {},
   "outputs": [],
   "source": [
    "model = Prophet(growth=\"logistic\", yearly_seasonality=True, weekly_seasonality=True, daily_seasonality=True, holidays=df_holidays)"
   ]
  },
  {
   "cell_type": "code",
   "execution_count": 84,
   "metadata": {},
   "outputs": [
    {
     "name": "stderr",
     "output_type": "stream",
     "text": [
      "C:\\Users\\takas\\Anaconda3\\lib\\site-packages\\pystan\\misc.py:399: FutureWarning: Conversion of the second argument of issubdtype from `float` to `np.floating` is deprecated. In future, it will be treated as `np.float64 == np.dtype(float).type`.\n",
      "  elif np.issubdtype(np.asarray(v).dtype, float):\n"
     ]
    },
    {
     "data": {
      "text/plain": [
       "<fbprophet.forecaster.Prophet at 0x20e26139d88>"
      ]
     },
     "execution_count": 84,
     "metadata": {},
     "output_type": "execute_result"
    }
   ],
   "source": [
    "model.fit(df)"
   ]
  },
  {
   "cell_type": "code",
   "execution_count": 85,
   "metadata": {},
   "outputs": [],
   "source": [
    "future['cap'] = 5700\n",
    "forecast = model.predict(future)"
   ]
  },
  {
   "cell_type": "code",
   "execution_count": 86,
   "metadata": {},
   "outputs": [
    {
     "data": {
      "text/plain": [
       "(17532.0, 17541.0)"
      ]
     },
     "execution_count": 86,
     "metadata": {},
     "output_type": "execute_result"
    },
    {
     "data": {
      "image/png": "[encoded data removed]",
      "text/plain": [
       "<Figure size 720x432 with 1 Axes>"
      ]
     },
     "metadata": {},
     "output_type": "display_data"
    }
   ],
   "source": [
    "model.plot(forecast)\n",
    "plt.xlim(dt(2018, 1, 1), dt(2018, 1, 10))"
   ]
  },
  {
   "cell_type": "code",
   "execution_count": 89,
   "metadata": {},
   "outputs": [],
   "source": [
    "forecast_2020 = forecast[forecast['ds'] >= dt(2020, 1, 1)].reset_index(drop=True)"
   ]
  },
  {
   "cell_type": "code",
   "execution_count": 90,
   "metadata": {},
   "outputs": [],
   "source": [
    "#実測値\n",
    "results['t'] = df_2020['y']\n",
    "#予測値\n",
    "results['y'] = forecast_2020['yhat']\n",
    "results['diff'] = results['t'] - results['y']"
   ]
  },
  {
   "cell_type": "code",
   "execution_count": 91,
   "metadata": {},
   "outputs": [
    {
     "data": {
      "text/plain": [
       "8.903601691781072"
      ]
     },
     "execution_count": 91,
     "metadata": {},
     "output_type": "execute_result"
    }
   ],
   "source": [
    "np.mean(abs((results['y'] - results['t'])/results['t'])*100)"
   ]
  },
  {
   "cell_type": "code",
   "execution_count": 93,
   "metadata": {},
   "outputs": [
    {
     "data": {
      "image/png": "[encoded data removed]",
      "text/plain": [
       "<Figure size 648x1080 with 5 Axes>"
      ]
     },
     "metadata": {},
     "output_type": "display_data"
    }
   ],
   "source": [
    "model.plot_components(forecast)\n",
    "plt.show()"
   ]
  },
  {
   "cell_type": "code",
   "execution_count": null,
   "metadata": {},
   "outputs": [],
   "source": []
  }
 ],
 "metadata": {
  "kernelspec": {
   "display_name": "Python 3",
   "language": "python",
   "name": "python3"
  },
  "language_info": {
   "codemirror_mode": {
    "name": "ipython",
    "version": 3
   },
   "file_extension": ".py",
   "mimetype": "text/x-python",
   "name": "python",
   "nbconvert_exporter": "python",
   "pygments_lexer": "ipython3",
   "version": "3.7.4"
  }
 },
 "nbformat": 4,
 "nbformat_minor": 4
}
